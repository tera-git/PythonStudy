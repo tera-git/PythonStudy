{
 "cells": [
  {
   "cell_type": "markdown",
   "metadata": {},
   "source": [
    "* generatorは、暗黙にイテレータを作成してくれる\n",
    "---\n",
    "* イテレータ実装\n",
    "  - __iter__(self) 実装（自分を返せば良い）\n",
    "  - __next__(self) 実装\n",
    "    + 途中までは、返すべきものを返す\n",
    "    + 終了時には、raise StopIteration"
   ]
  },
  {
   "cell_type": "code",
   "execution_count": 1,
   "metadata": {},
   "outputs": [],
   "source": [
    "class MyRange:\n",
    "    def __init__(self, max):\n",
    "        self.max = max\n",
    "        self.count = 0\n",
    "    def __iter__(self):\n",
    "        return self\n",
    "    def __next__(self):\n",
    "        self.count += 1\n",
    "        if self.count > self.max:\n",
    "            raise StopIteration\n",
    "        return self.count"
   ]
  },
  {
   "cell_type": "code",
   "execution_count": 2,
   "metadata": {},
   "outputs": [
    {
     "name": "stdout",
     "output_type": "stream",
     "text": [
      "1, 2, 3, 4, "
     ]
    }
   ],
   "source": [
    "for i in MyRange(4):\n",
    "    print(i, end=', ')"
   ]
  },
  {
   "cell_type": "code",
   "execution_count": 3,
   "metadata": {},
   "outputs": [
    {
     "data": {
      "text/plain": [
       "[1, 2, 3, 4, 5, 6, 7]"
      ]
     },
     "execution_count": 3,
     "metadata": {},
     "output_type": "execute_result"
    }
   ],
   "source": [
    "[*MyRange(7)]"
   ]
  },
  {
   "cell_type": "markdown",
   "metadata": {},
   "source": [
    "* 普通のrange()と同じように使える\n",
    "---\n",
    "* generatorを使ったイテレータ実装\n",
    "  - 関数実装（break & yield するだけで良い）"
   ]
  },
  {
   "cell_type": "code",
   "execution_count": 4,
   "metadata": {},
   "outputs": [],
   "source": [
    "def myRange(max):\n",
    "    count = 0\n",
    "    while True:\n",
    "        count += 1\n",
    "        if count > max:\n",
    "            break\n",
    "        yield count"
   ]
  },
  {
   "cell_type": "code",
   "execution_count": 5,
   "metadata": {},
   "outputs": [
    {
     "name": "stdout",
     "output_type": "stream",
     "text": [
      "1, 2, 3, 4, 5, 6, 7, 8, 9, 10, "
     ]
    }
   ],
   "source": [
    "for i in myRange(10):\n",
    "    print(i, end=', ')"
   ]
  },
  {
   "cell_type": "markdown",
   "metadata": {},
   "source": [
    "---\n",
    "* generator式は、内包表記もどきな構文で、yield文も書かない"
   ]
  },
  {
   "cell_type": "code",
   "execution_count": 6,
   "metadata": {},
   "outputs": [
    {
     "name": "stdout",
     "output_type": "stream",
     "text": [
      "0, 4, 16, 36, 64, "
     ]
    }
   ],
   "source": [
    "for i in (x*x for x in range(10) if x % 2 == 0):\n",
    "    print(i, end=', ')"
   ]
  },
  {
   "cell_type": "markdown",
   "metadata": {},
   "source": [
    "---\n",
    "* 無限に継続するgenerator"
   ]
  },
  {
   "cell_type": "code",
   "execution_count": 7,
   "metadata": {},
   "outputs": [],
   "source": [
    "def getIntSequence():\n",
    "    count = 0\n",
    "    max = 0\n",
    "    while True:\n",
    "        count += 1\n",
    "        if max > 0 and count > max:\n",
    "            break\n",
    "        y = yield count\n",
    "        print('[{}]'.format(y), end='')\n",
    "        if type(y) == type(max):\n",
    "            max = y"
   ]
  },
  {
   "cell_type": "markdown",
   "metadata": {},
   "source": [
    "* 普通に使うといつまでも終了しないので、呼び出し側は以下のように、どこかでmax指定を送る"
   ]
  },
  {
   "cell_type": "code",
   "execution_count": 8,
   "metadata": {},
   "outputs": [
    {
     "name": "stdout",
     "output_type": "stream",
     "text": [
      "1, [None]2, [None]3, [None]4, [6]5| [None]6, [None]"
     ]
    }
   ],
   "source": [
    "gs = getIntSequence()\n",
    "for i in gs:\n",
    "    print(i, end=', ')\n",
    "    if i == 4:\n",
    "        i = gs.send(6)\n",
    "        print(i, end='| ')"
   ]
  },
  {
   "cell_type": "markdown",
   "metadata": {},
   "source": [
    "* max指定を送っているsend()の使い方には注意が必要！\n",
    "  - send()呼び出しで、generator側に制御が行き、再びyield文になるまでgenerator側実行になる\n",
    "  - そして、次のyield戻り値をsend()が返してくる\n",
    "  - 注意！ 直ぐ止めるとシーケンスが崩れ、StopIteration例外が発生する\n",
    "---\n",
    "* 直ぐ停止させたい場合"
   ]
  },
  {
   "cell_type": "code",
   "execution_count": 9,
   "metadata": {},
   "outputs": [],
   "source": [
    "def getFinSequence():\n",
    "    count = 0\n",
    "    while True:\n",
    "        count += 1\n",
    "        y = yield count\n",
    "        print('[{}]'.format(y), end='')\n",
    "        if y == 'finish':\n",
    "            break"
   ]
  },
  {
   "cell_type": "markdown",
   "metadata": {},
   "source": [
    "* send()呼び出しをtry-exceptしてStopIteration例外を処理する"
   ]
  },
  {
   "cell_type": "code",
   "execution_count": 10,
   "metadata": {},
   "outputs": [
    {
     "name": "stdout",
     "output_type": "stream",
     "text": [
      "1, [None]2, [None]3, [None]4, [finish]finished\n"
     ]
    }
   ],
   "source": [
    "gs = getFinSequence()\n",
    "for i in gs:\n",
    "    print(i, end=', ')\n",
    "    if i == 4:\n",
    "        try:\n",
    "            gs.send('finish')\n",
    "        except(StopIteration):\n",
    "            print('finished')"
   ]
  },
  {
   "cell_type": "code",
   "execution_count": null,
   "metadata": {},
   "outputs": [],
   "source": []
  }
 ],
 "metadata": {
  "kernelspec": {
   "display_name": "Python 3",
   "language": "python",
   "name": "python3"
  },
  "language_info": {
   "codemirror_mode": {
    "name": "ipython",
    "version": 3
   },
   "file_extension": ".py",
   "mimetype": "text/x-python",
   "name": "python",
   "nbconvert_exporter": "python",
   "pygments_lexer": "ipython3",
   "version": "3.6.4"
  }
 },
 "nbformat": 4,
 "nbformat_minor": 2
}
