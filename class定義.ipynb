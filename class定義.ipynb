{
 "cells": [
  {
   "cell_type": "markdown",
   "metadata": {},
   "source": [
    "* クラス定義\n",
    "  - Pythonのクラスは宣言ではなく、なんと実行文である\n",
    "  - Pyhtonは基本的には関数型言語で、オブジェクト指向はハッシュ表を使って後付した\n",
    "  - そして完全なDuckタイピングなので、継承とは全く無関係にメソッド呼び出しが可能\n",
    "  - インスタンス変数は、__init__(self)での代入文で作られるので多重継承もへっちゃら\n",
    "  - Pythonでの継承の目的はMixInにあり\n",
    "  - メソッドは、インスタンス／クラス／Staticの3種類ある\n",
    "  - プロパティも作れる  "
   ]
  },
  {
   "cell_type": "code",
   "execution_count": 1,
   "metadata": {},
   "outputs": [
    {
     "name": "stdout",
     "output_type": "stream",
     "text": [
      "MyClass ..start....\n",
      "MyClass ...end.....\n"
     ]
    }
   ],
   "source": [
    "class MyClass:\n",
    "    print('MyClass ..start....')\n",
    "    ourName = 'test'\n",
    "    #print(MyClass.ourName)\n",
    "    #---------------------------\n",
    "    @staticmethod\n",
    "    def toLower(s):\n",
    "        return s.lower()\n",
    "    #---------------------------\n",
    "    @classmethod\n",
    "    def setName(cls, name):\n",
    "        cls.ourName = name\n",
    "    @classmethod\n",
    "    def getName(cls):\n",
    "        return cls.ourName\n",
    "    #---------------------------\n",
    "    def __init__(self, name = 'noName'):\n",
    "        self.setMyName(name)\n",
    "    def getMyName(self):\n",
    "        return self.myName\n",
    "    def setMyName(self, name):\n",
    "        self.myName = name\n",
    "    #---------------------------\n",
    "    @property\n",
    "    def ident(self):\n",
    "        return self.getMyName()\n",
    "    @ident.setter\n",
    "    def ident(self, name):\n",
    "        self.setMyName(name)\n",
    "    print('MyClass ...end.....')    "
   ]
  },
  {
   "cell_type": "markdown",
   "metadata": {},
   "source": [
    "* MyClassクラス内のprint()が実行されourNameクラス変数も作られる。\n",
    "  - この段階でMyClassというオブジェクトができている"
   ]
  },
  {
   "cell_type": "markdown",
   "metadata": {},
   "source": [
    "* インスタンスを作って呼び出す"
   ]
  },
  {
   "cell_type": "code",
   "execution_count": 2,
   "metadata": {},
   "outputs": [
    {
     "name": "stdout",
     "output_type": "stream",
     "text": [
      "abcdef\n",
      "ident=noName ourName=test getName()=test getMyName()=noName\n",
      "ident=changed! ourName=test getName()=test getMyName()=changed!\n"
     ]
    }
   ],
   "source": [
    "m = MyClass()\n",
    "print(m.toLower('AbcDef'))\n",
    "print('ident={0} ourName={1} getName()={2} getMyName()={3}'.format(\n",
    "        m.ident, m.ourName, m.getName(), m.getMyName()))\n",
    "m.ident = 'changed!'\n",
    "print('ident={0} ourName={1} getName()={2} getMyName()={3}'.format(\n",
    "        m.ident, m.ourName, m.getName(), m.getMyName()))"
   ]
  },
  {
   "cell_type": "markdown",
   "metadata": {},
   "source": [
    "* クラス／Staticメソッドは、クラス名でも呼び出せる"
   ]
  },
  {
   "cell_type": "code",
   "execution_count": 3,
   "metadata": {},
   "outputs": [
    {
     "name": "stdout",
     "output_type": "stream",
     "text": [
      "abcdef\n",
      "ourName=test getName()=test\n",
      "ourName=changed! getName()=changed!\n"
     ]
    }
   ],
   "source": [
    "print(MyClass.toLower('AbcDef'))\n",
    "print('ourName={} getName()={}'.format(MyClass.ourName, MyClass.getName()))\n",
    "MyClass.setName('changed!')\n",
    "print('ourName={} getName()={}'.format(MyClass.ourName, MyClass.getName()))"
   ]
  },
  {
   "cell_type": "markdown",
   "metadata": {},
   "source": [
    "* 継承してみる"
   ]
  },
  {
   "cell_type": "code",
   "execution_count": 4,
   "metadata": {},
   "outputs": [
    {
     "name": "stdout",
     "output_type": "stream",
     "text": [
      "YouClass ..start....\n",
      "YouClass ...end.....\n"
     ]
    }
   ],
   "source": [
    "class YouClass(MyClass):\n",
    "    print('YouClass ..start....')\n",
    "    #---------------------------\n",
    "    @staticmethod\n",
    "    def toLower(s):\n",
    "        print('Not convert lower')\n",
    "        return s.upper()\n",
    "    #---------------------------\n",
    "    def __init__(self, name = 'yourName'):\n",
    "        self.setMyName(name)\n",
    "    print('YouClass ...end.....')        "
   ]
  },
  {
   "cell_type": "markdown",
   "metadata": {},
   "source": [
    "* YouClassクラス内のprint()が実行される。\n",
    "  - ここでは、MyClassオブジェクトは既に生成されていないとエラーになる\n",
    "  - この段階でYouClassというオブジェクトができている"
   ]
  },
  {
   "cell_type": "markdown",
   "metadata": {},
   "source": [
    "* 親クラスのメソッドやプロパティも、ちゃんと使える"
   ]
  },
  {
   "cell_type": "code",
   "execution_count": 5,
   "metadata": {},
   "outputs": [
    {
     "name": "stdout",
     "output_type": "stream",
     "text": [
      "Not convert lower\n",
      "ABCDEF\n",
      "ident=yourName ourName=changed! getName()=changed! getMyName()=yourName\n",
      "ident=changed! ourName=changed! getName()=changed! getMyName()=changed!\n"
     ]
    }
   ],
   "source": [
    "m = YouClass()\n",
    "print(m.toLower('AbcDef'))\n",
    "print('ident={0} ourName={1} getName()={2} getMyName()={3}'.format(\n",
    "        m.ident, m.ourName, m.getName(), m.getMyName()))\n",
    "m.ident = 'changed!'\n",
    "print('ident={0} ourName={1} getName()={2} getMyName()={3}'.format(\n",
    "        m.ident, m.ourName, m.getName(), m.getMyName()))"
   ]
  },
  {
   "cell_type": "markdown",
   "metadata": {},
   "source": [
    "* Staticメソッドもオーバライドできてる"
   ]
  },
  {
   "cell_type": "code",
   "execution_count": 6,
   "metadata": {},
   "outputs": [
    {
     "name": "stdout",
     "output_type": "stream",
     "text": [
      "Not convert lower\n",
      "ABCDEF\n",
      "ourName=changed! getName()=changed!\n",
      "ourName=you changed!! getName()=you changed!!\n"
     ]
    }
   ],
   "source": [
    "print(YouClass.toLower('AbcDef'))\n",
    "print('ourName={} getName()={}'.format(YouClass.ourName, YouClass.getName()))\n",
    "YouClass.setName('you changed!!')\n",
    "print('ourName={} getName()={}'.format(YouClass.ourName, YouClass.getName()))"
   ]
  },
  {
   "cell_type": "markdown",
   "metadata": {},
   "source": [
    "* len()の実装"
   ]
  },
  {
   "cell_type": "code",
   "execution_count": 7,
   "metadata": {},
   "outputs": [],
   "source": [
    "class Test:\n",
    "    pass\n",
    "t = Test()"
   ]
  },
  {
   "cell_type": "code",
   "execution_count": 8,
   "metadata": {},
   "outputs": [
    {
     "ename": "TypeError",
     "evalue": "object of type 'Test' has no len()",
     "output_type": "error",
     "traceback": [
      "\u001b[1;31m---------------------------------------------------------------------------\u001b[0m",
      "\u001b[1;31mTypeError\u001b[0m                                 Traceback (most recent call last)",
      "\u001b[1;32m<ipython-input-8-10940ab674c7>\u001b[0m in \u001b[0;36m<module>\u001b[1;34m()\u001b[0m\n\u001b[1;32m----> 1\u001b[1;33m \u001b[0mprint\u001b[0m\u001b[1;33m(\u001b[0m\u001b[0mlen\u001b[0m\u001b[1;33m(\u001b[0m\u001b[0mt\u001b[0m\u001b[1;33m)\u001b[0m\u001b[1;33m)\u001b[0m\u001b[1;33m\u001b[0m\u001b[0m\n\u001b[0m",
      "\u001b[1;31mTypeError\u001b[0m: object of type 'Test' has no len()"
     ]
    }
   ],
   "source": [
    "print(len(t))"
   ]
  },
  {
   "cell_type": "markdown",
   "metadata": {},
   "source": [
    "* len()は適用できないのでエラー"
   ]
  },
  {
   "cell_type": "code",
   "execution_count": 9,
   "metadata": {},
   "outputs": [
    {
     "name": "stdout",
     "output_type": "stream",
     "text": [
      "26\n"
     ]
    }
   ],
   "source": [
    "print(len(dir(t)))"
   ]
  },
  {
   "cell_type": "markdown",
   "metadata": {},
   "source": [
    "* じゃあ定義しよう"
   ]
  },
  {
   "cell_type": "code",
   "execution_count": 10,
   "metadata": {},
   "outputs": [
    {
     "name": "stdout",
     "output_type": "stream",
     "text": [
      "27\n"
     ]
    }
   ],
   "source": [
    "def lenFunc(self):\n",
    "    return len(dir(self))\n",
    "Test.__len__ = lenFunc\n",
    "\n",
    "print(len(t))"
   ]
  },
  {
   "cell_type": "markdown",
   "metadata": {},
   "source": [
    "* クラスに後付けでも、ちゃんと使える！"
   ]
  },
  {
   "cell_type": "code",
   "execution_count": 11,
   "metadata": {},
   "outputs": [
    {
     "name": "stdout",
     "output_type": "stream",
     "text": [
      "27\n",
      "True\n"
     ]
    }
   ],
   "source": [
    "print(len(dir(t)))\n",
    "print(dir(t) == dir(Test))"
   ]
  },
  {
   "cell_type": "markdown",
   "metadata": {},
   "source": [
    "* つまりメソッド探索テーブルは、インスタンス tオブジェクトでなくクラス Testオブジェクトに属している"
   ]
  }
 ],
 "metadata": {
  "kernelspec": {
   "display_name": "Python 3",
   "language": "python",
   "name": "python3"
  },
  "language_info": {
   "codemirror_mode": {
    "name": "ipython",
    "version": 3
   },
   "file_extension": ".py",
   "mimetype": "text/x-python",
   "name": "python",
   "nbconvert_exporter": "python",
   "pygments_lexer": "ipython3",
   "version": "3.6.4"
  }
 },
 "nbformat": 4,
 "nbformat_minor": 2
}
