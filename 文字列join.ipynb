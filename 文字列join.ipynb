{
 "cells": [
  {
   "cell_type": "markdown",
   "metadata": {},
   "source": [
    "* 最初は、とっても奇妙に感じるjoinメソッド"
   ]
  },
  {
   "cell_type": "code",
   "execution_count": 5,
   "metadata": {},
   "outputs": [
    {
     "name": "stdout",
     "output_type": "stream",
     "text": [
      "1, 2, 4, 8, 16\n",
      "['1', '2', '4', '8', '16']\n",
      "1, 2, 4, 8, 16\n"
     ]
    }
   ],
   "source": [
    "org = \"1, 2, 4, 8, 16\"\n",
    "sp = org.split(', ')\n",
    "jn = ', '.join(sp)\n",
    "print(org)\n",
    "print(sp)\n",
    "print(jn)"
   ]
  },
  {
   "cell_type": "markdown",
   "metadata": {},
   "source": [
    "* split joinで逆向きの対称になってるから分かり易い\n",
    "---\n",
    "* 以下みたいに関数定義すれば、とても便利！"
   ]
  },
  {
   "cell_type": "code",
   "execution_count": 8,
   "metadata": {},
   "outputs": [
    {
     "name": "stdout",
     "output_type": "stream",
     "text": [
      "0,1,2,3,4,5,6\n",
      "0+1+2+3+4+5+6\n",
      "0 1 2 3 4 5 6\n",
      "0\t1\t2\t3\t4\t5\t6\n"
     ]
    }
   ],
   "source": [
    "kmjoin = ','.join\n",
    "plusjoin = '+'.join\n",
    "spjoin = ' '.join\n",
    "tabjoin = '\\t'.join\n",
    "seq = [str(x) for x in range(7)]\n",
    "print(kmjoin(seq))\n",
    "print(plusjoin(seq))\n",
    "print(spjoin(seq))\n",
    "print(tabjoin(seq))"
   ]
  },
  {
   "cell_type": "code",
   "execution_count": null,
   "metadata": {},
   "outputs": [],
   "source": []
  }
 ],
 "metadata": {
  "kernelspec": {
   "display_name": "Python 3",
   "language": "python",
   "name": "python3"
  },
  "language_info": {
   "codemirror_mode": {
    "name": "ipython",
    "version": 3
   },
   "file_extension": ".py",
   "mimetype": "text/x-python",
   "name": "python",
   "nbconvert_exporter": "python",
   "pygments_lexer": "ipython3",
   "version": "3.6.4"
  }
 },
 "nbformat": 4,
 "nbformat_minor": 2
}
