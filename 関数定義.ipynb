{
 "cells": [
  {
   "cell_type": "code",
   "execution_count": 44,
   "metadata": {},
   "outputs": [
    {
     "name": "stdout",
     "output_type": "stream",
     "text": [
      "1048576\n",
      "999\n",
      "0\n"
     ]
    }
   ],
   "source": [
    "testVar = 0              # globalでtestVarを作る\n",
    "def testFunc(x):\n",
    "    testVar = x          # 関数内(local)でtestVarを作る\n",
    "    return x ** 20\n",
    "testFunc.testVar = 999   # 関数属性としてtestVarを作る\n",
    "\n",
    "print(testFunc(2))\n",
    "print(testFunc.testVar)\n",
    "print(testVar)"
   ]
  },
  {
   "cell_type": "markdown",
   "metadata": {},
   "source": [
    "1. 関数内で作ったtestVarは、localなので関数終了で消えてしまう\n",
    "2. つまり、永続性ある変数は、glovalか属性だけ\n",
    "3. ３種類の変数は全く別物"
   ]
  },
  {
   "cell_type": "code",
   "execution_count": 45,
   "metadata": {},
   "outputs": [
    {
     "name": "stdout",
     "output_type": "stream",
     "text": [
      "0\n"
     ]
    }
   ],
   "source": [
    "def testFunc2():\n",
    "    global testVar    # global指定すれば、globalが見えるようになる\n",
    "    return testVar\n",
    "print(testFunc2())"
   ]
  },
  {
   "cell_type": "code",
   "execution_count": 46,
   "metadata": {},
   "outputs": [
    {
     "name": "stdout",
     "output_type": "stream",
     "text": [
      "999\n"
     ]
    }
   ],
   "source": [
    "testFunc2.other = testFunc\n",
    "print(testFunc2.other.testVar)"
   ]
  },
  {
   "cell_type": "markdown",
   "metadata": {},
   "source": [
    "* 属性に別関数を保持できる"
   ]
  },
  {
   "cell_type": "code",
   "execution_count": 47,
   "metadata": {},
   "outputs": [
    {
     "name": "stdout",
     "output_type": "stream",
     "text": [
      "999\n",
      "1048576\n",
      "0\n"
     ]
    }
   ],
   "source": [
    "testFunc.other = testFunc2\n",
    "t = testFunc\n",
    "print(t.other.other.other.other.other.other.other.other.other.other.testVar)\n",
    "print(t.other.other.other.other.other.other.other.other.other.other(2))\n",
    "print(t.other.other.other.other.other.other.other.other.other())"
   ]
  },
  {
   "cell_type": "markdown",
   "metadata": {},
   "source": [
    "* お互いの属性でお互いを保持すれば、行き来できる"
   ]
  }
 ],
 "metadata": {
  "kernelspec": {
   "display_name": "Python 3",
   "language": "python",
   "name": "python3"
  },
  "language_info": {
   "codemirror_mode": {
    "name": "ipython",
    "version": 3
   },
   "file_extension": ".py",
   "mimetype": "text/x-python",
   "name": "python",
   "nbconvert_exporter": "python",
   "pygments_lexer": "ipython3",
   "version": "3.6.4"
  }
 },
 "nbformat": 4,
 "nbformat_minor": 2
}
