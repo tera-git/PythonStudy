{
 "cells": [
  {
   "cell_type": "markdown",
   "metadata": {},
   "source": [
    "* Pythonの関数定義は、関数オブジェクトへの参照を変数にセットする実行文である。\n",
    "このときの変数名は関数名が利用される。\n",
    "\n",
    "* 変数とは名前空間の属性のようなもの\n",
    "\n",
    "* Pythonでは、全てのオブジェクトは名前空間である。\n",
    "dir()は、カレントの名前空間の変数を返す"
   ]
  },
  {
   "cell_type": "code",
   "execution_count": 159,
   "metadata": {},
   "outputs": [
    {
     "name": "stdout",
     "output_type": "stream",
     "text": [
      "locals= {'testVar': 2, 'x': 2}\n",
      "1048576\n",
      "999\n",
      "0\n"
     ]
    }
   ],
   "source": [
    "testVar = 0              # globalでtestVarを作る\n",
    "def testFunc(x):\n",
    "    testVar = x          # 関数内(local)でtestVarを作る\n",
    "    print('locals=', locals())\n",
    "    return x ** 20\n",
    "testFunc.testVar = 999   # 関数属性としてtestVarを作る\n",
    "\n",
    "print(testFunc(2))\n",
    "print(testFunc.testVar)\n",
    "print(testVar)"
   ]
  },
  {
   "cell_type": "markdown",
   "metadata": {},
   "source": [
    "1. 関数内で作ったtestVarは、localなので関数終了で消えてしまう\n",
    "2. つまり、永続性ある変数は、globalか属性だけ\n",
    "3. ３種類の変数は全く別物"
   ]
  },
  {
   "cell_type": "code",
   "execution_count": 160,
   "metadata": {},
   "outputs": [
    {
     "name": "stdout",
     "output_type": "stream",
     "text": [
      "locals= {}\n",
      "0\n"
     ]
    }
   ],
   "source": [
    "def testFunc2():\n",
    "    global testVar    # global指定すれば、globalが見えるようになる\n",
    "    print('locals=', locals())\n",
    "    return testVar\n",
    "print(testFunc2())"
   ]
  },
  {
   "cell_type": "code",
   "execution_count": 161,
   "metadata": {},
   "outputs": [
    {
     "name": "stdout",
     "output_type": "stream",
     "text": [
      "999\n"
     ]
    }
   ],
   "source": [
    "testFunc2.other = testFunc\n",
    "print(testFunc2.other.testVar)"
   ]
  },
  {
   "cell_type": "markdown",
   "metadata": {},
   "source": [
    "* 属性に別関数を保持できる"
   ]
  },
  {
   "cell_type": "code",
   "execution_count": 162,
   "metadata": {},
   "outputs": [
    {
     "name": "stdout",
     "output_type": "stream",
     "text": [
      "999\n",
      "locals= {'testVar': 2, 'x': 2}\n",
      "1048576\n",
      "locals= {}\n",
      "0\n"
     ]
    }
   ],
   "source": [
    "testFunc.other = testFunc2\n",
    "t = testFunc\n",
    "print(t.other.other.other.other.other.other.other.other.other.other.testVar)\n",
    "print(t.other.other.other.other.other.other.other.other.other.other(2))\n",
    "print(t.other.other.other.other.other.other.other.other.other())"
   ]
  },
  {
   "cell_type": "markdown",
   "metadata": {},
   "source": [
    "* お互いの属性でお互いを保持すれば、行き来できる"
   ]
  },
  {
   "cell_type": "code",
   "execution_count": 163,
   "metadata": {},
   "outputs": [
    {
     "name": "stdout",
     "output_type": "stream",
     "text": [
      "n3=testFunc3の中 , gn=一番外側\n",
      "2nd= 2\n",
      "locals= {'testFunc': <function testFunc3.<locals>.testFunc at 0x0000000005C9D048>, 'n3': 'testFunc3の中'}\n"
     ]
    }
   ],
   "source": [
    "gn = '一番外側'\n",
    "def testFunc3():\n",
    "    n3 = 'testFunc3の中'\n",
    "    #print('1st=', testFunc(2))\n",
    "    def testFunc(x):\n",
    "        print('n3={} , gn={}'.format(n3, gn))\n",
    "        return x\n",
    "    print('2nd=', testFunc(2))\n",
    "    print('locals=', locals())\n",
    "testFunc3()"
   ]
  },
  {
   "cell_type": "markdown",
   "metadata": {},
   "source": [
    "* 関数内部で定義された関数から変数参照すると、順番に外側スコープに向かって変数を探す"
   ]
  },
  {
   "cell_type": "code",
   "execution_count": 164,
   "metadata": {},
   "outputs": [
    {
     "name": "stdout",
     "output_type": "stream",
     "text": [
      "in testLocal 外側\n"
     ]
    }
   ],
   "source": [
    "gn = '外側'\n",
    "def testLocal():\n",
    "    print('in testLocal', gn)\n",
    "testLocal()    "
   ]
  },
  {
   "cell_type": "markdown",
   "metadata": {},
   "source": [
    "* 外側変数を参照するだけならOK"
   ]
  },
  {
   "cell_type": "code",
   "execution_count": 165,
   "metadata": {},
   "outputs": [
    {
     "ename": "UnboundLocalError",
     "evalue": "local variable 'gn' referenced before assignment",
     "output_type": "error",
     "traceback": [
      "\u001b[1;31m---------------------------------------------------------------------------\u001b[0m",
      "\u001b[1;31mUnboundLocalError\u001b[0m                         Traceback (most recent call last)",
      "\u001b[1;32m<ipython-input-165-4902372e64ad>\u001b[0m in \u001b[0;36m<module>\u001b[1;34m()\u001b[0m\n\u001b[0;32m      3\u001b[0m     \u001b[0mprint\u001b[0m\u001b[1;33m(\u001b[0m\u001b[1;34m'in testLocal'\u001b[0m\u001b[1;33m,\u001b[0m \u001b[0mgn\u001b[0m\u001b[1;33m)\u001b[0m\u001b[1;33m\u001b[0m\u001b[0m\n\u001b[0;32m      4\u001b[0m     \u001b[0mgn\u001b[0m \u001b[1;33m=\u001b[0m \u001b[1;34m'内側'\u001b[0m\u001b[1;33m\u001b[0m\u001b[0m\n\u001b[1;32m----> 5\u001b[1;33m \u001b[0mtestLocal\u001b[0m\u001b[1;33m(\u001b[0m\u001b[1;33m)\u001b[0m\u001b[1;33m\u001b[0m\u001b[0m\n\u001b[0m",
      "\u001b[1;32m<ipython-input-165-4902372e64ad>\u001b[0m in \u001b[0;36mtestLocal\u001b[1;34m()\u001b[0m\n\u001b[0;32m      1\u001b[0m \u001b[0mgn\u001b[0m \u001b[1;33m=\u001b[0m \u001b[1;34m'外側'\u001b[0m\u001b[1;33m\u001b[0m\u001b[0m\n\u001b[0;32m      2\u001b[0m \u001b[1;32mdef\u001b[0m \u001b[0mtestLocal\u001b[0m\u001b[1;33m(\u001b[0m\u001b[1;33m)\u001b[0m\u001b[1;33m:\u001b[0m\u001b[1;33m\u001b[0m\u001b[0m\n\u001b[1;32m----> 3\u001b[1;33m     \u001b[0mprint\u001b[0m\u001b[1;33m(\u001b[0m\u001b[1;34m'in testLocal'\u001b[0m\u001b[1;33m,\u001b[0m \u001b[0mgn\u001b[0m\u001b[1;33m)\u001b[0m\u001b[1;33m\u001b[0m\u001b[0m\n\u001b[0m\u001b[0;32m      4\u001b[0m     \u001b[0mgn\u001b[0m \u001b[1;33m=\u001b[0m \u001b[1;34m'内側'\u001b[0m\u001b[1;33m\u001b[0m\u001b[0m\n\u001b[0;32m      5\u001b[0m \u001b[0mtestLocal\u001b[0m\u001b[1;33m(\u001b[0m\u001b[1;33m)\u001b[0m\u001b[1;33m\u001b[0m\u001b[0m\n",
      "\u001b[1;31mUnboundLocalError\u001b[0m: local variable 'gn' referenced before assignment"
     ]
    }
   ],
   "source": [
    "gn = '外側'\n",
    "def testLocal():\n",
    "    print('in testLocal', gn)\n",
    "    gn = '内側'\n",
    "testLocal()"
   ]
  },
  {
   "cell_type": "markdown",
   "metadata": {},
   "source": [
    "* 参照と書き込みが含まれている場合にはローカル変数と判断し、参照がNGに変わる\n",
    "* つまり関数内で参照されるだけの変数は暗黙グローバルで、関数のどこかで代入されたなら、\n",
    "  明示的にグローバル宣言しない限り、ローカルである。"
   ]
  },
  {
   "cell_type": "code",
   "execution_count": 166,
   "metadata": {},
   "outputs": [
    {
     "name": "stdout",
     "output_type": "stream",
     "text": [
      "in testLocal 内側\n",
      "outer 外側\n"
     ]
    }
   ],
   "source": [
    "gn = '外側'\n",
    "def testLocal():\n",
    "    gn = '内側'\n",
    "    print('in testLocal', gn)\n",
    "testLocal()\n",
    "print('outer', gn)"
   ]
  },
  {
   "cell_type": "markdown",
   "metadata": {},
   "source": [
    "* 順番を変えた。これならローカルだけでOK、外側変数は変更されない"
   ]
  },
  {
   "cell_type": "code",
   "execution_count": 167,
   "metadata": {},
   "outputs": [
    {
     "name": "stdout",
     "output_type": "stream",
     "text": [
      "in testLocal 内側\n",
      "outer 内側\n"
     ]
    }
   ],
   "source": [
    "gn = '外側'\n",
    "def testLocal():\n",
    "    global gn\n",
    "    gn = '内側'\n",
    "    print('in testLocal', gn)\n",
    "testLocal()\n",
    "print('outer', gn)"
   ]
  },
  {
   "cell_type": "markdown",
   "metadata": {},
   "source": [
    "* 外側変数はglobal宣言すると、参照も変更もできる\n",
    "* 但し、同じ名前のローカルとグローバルを切り替えては使えない。どっちかだけ"
   ]
  },
  {
   "cell_type": "code",
   "execution_count": 168,
   "metadata": {},
   "outputs": [
    {
     "name": "stdout",
     "output_type": "stream",
     "text": [
      "before test1 中間\n",
      "in test1 内側\n",
      "after test1 内側\n",
      "outer 外側\n"
     ]
    }
   ],
   "source": [
    "gn = '外側'\n",
    "def testLocal():\n",
    "    gn = '中間'\n",
    "    def test1():\n",
    "        nonlocal gn\n",
    "        gn = '内側'\n",
    "        print('in test1', gn)\n",
    "    print('before test1', gn)\n",
    "    test1()\n",
    "    print('after test1', gn)\n",
    "testLocal()\n",
    "print('outer', gn)"
   ]
  },
  {
   "cell_type": "markdown",
   "metadata": {},
   "source": [
    "* 中間変数はnonlocal宣言で、参照も変更もできる"
   ]
  },
  {
   "cell_type": "markdown",
   "metadata": {},
   "source": [
    "---\n",
    "* デフォルト引数の使い方\n",
    "    * イミュータブルなものをデフォルト値にする"
   ]
  },
  {
   "cell_type": "code",
   "execution_count": 169,
   "metadata": {},
   "outputs": [
    {
     "name": "stdout",
     "output_type": "stream",
     "text": [
      "6\n"
     ]
    }
   ],
   "source": [
    "def foo(x, y=1):\n",
    "    return x + y\n",
    "print(foo(5))"
   ]
  },
  {
   "cell_type": "markdown",
   "metadata": {},
   "source": [
    "* デフォルト引数の罠\n",
    "    * ミュータブルなものをデフォルト値にすると・・・えっ！！！"
   ]
  },
  {
   "cell_type": "code",
   "execution_count": 170,
   "metadata": {},
   "outputs": [
    {
     "name": "stdout",
     "output_type": "stream",
     "text": [
      "[5]\n",
      "[5, 10]\n"
     ]
    }
   ],
   "source": [
    "def foo(x, y=[]):\n",
    "    y.append(x)\n",
    "    return y\n",
    "print(foo(5))\n",
    "print(foo(10))"
   ]
  },
  {
   "cell_type": "markdown",
   "metadata": {},
   "source": [
    "* デフォルト値は、関数が定義されたときに一度だけ生成される。\n",
    "\n",
    "* これを利用して、以下のように計算キャッシュを実装できる"
   ]
  },
  {
   "cell_type": "code",
   "execution_count": 171,
   "metadata": {},
   "outputs": [],
   "source": [
    "def realCalculate(x, y):\n",
    "    \"\"\" 時間がかかる計算をする \"\"\"\n",
    "    return x ** 100000 * y ** 10000\n",
    "\n",
    "def calculate(x, y, _cache={}):\n",
    "    if (x,y) in _cache:\n",
    "        return _cache[(x,y)]\n",
    "    result = realCalculate(x, y)\n",
    "    _cache[(x,y)] = result\n",
    "    return result"
   ]
  },
  {
   "cell_type": "markdown",
   "metadata": {},
   "source": [
    "* 時間計測してみる"
   ]
  },
  {
   "cell_type": "code",
   "execution_count": 175,
   "metadata": {},
   "outputs": [
    {
     "name": "stdout",
     "output_type": "stream",
     "text": [
      "elapsed= 0.10920143127441406\n",
      "elapsed= 0.0\n"
     ]
    }
   ],
   "source": [
    "import time\n",
    "s = time.time()\n",
    "calculate(777, 999)\n",
    "print('elapsed=', time.time()-s)\n",
    "s = time.time()\n",
    "calculate(777, 999)\n",
    "print('elapsed=', time.time()-s)"
   ]
  },
  {
   "cell_type": "markdown",
   "metadata": {},
   "source": [
    "* セルでの時間計測１"
   ]
  },
  {
   "cell_type": "code",
   "execution_count": 176,
   "metadata": {},
   "outputs": [
    {
     "name": "stdout",
     "output_type": "stream",
     "text": [
      "406 ns ± 3.14 ns per loop (mean ± std. dev. of 7 runs, 1000000 loops each)\n"
     ]
    }
   ],
   "source": [
    "%%timeit\n",
    "calculate(777, 999)"
   ]
  },
  {
   "cell_type": "markdown",
   "metadata": {},
   "source": [
    "* セルでの時間計測２"
   ]
  },
  {
   "cell_type": "code",
   "execution_count": 177,
   "metadata": {},
   "outputs": [
    {
     "name": "stdout",
     "output_type": "stream",
     "text": [
      "Wall time: 0 ns\n"
     ]
    },
    {
     "data": {
      "text/plain": [
       "1"
      ]
     },
     "execution_count": 177,
     "metadata": {},
     "output_type": "execute_result"
    }
   ],
   "source": [
    "%%time\n",
    "calculate(1, 1)"
   ]
  },
  {
   "cell_type": "code",
   "execution_count": null,
   "metadata": {},
   "outputs": [],
   "source": []
  }
 ],
 "metadata": {
  "kernelspec": {
   "display_name": "Python 3",
   "language": "python",
   "name": "python3"
  },
  "language_info": {
   "codemirror_mode": {
    "name": "ipython",
    "version": 3
   },
   "file_extension": ".py",
   "mimetype": "text/x-python",
   "name": "python",
   "nbconvert_exporter": "python",
   "pygments_lexer": "ipython3",
   "version": "3.6.4"
  }
 },
 "nbformat": 4,
 "nbformat_minor": 2
}
