{
 "cells": [
  {
   "cell_type": "code",
   "execution_count": 6,
   "metadata": {},
   "outputs": [],
   "source": [
    "import os\n",
    "os.chdir(r'D:\\_GitHubSpace\\PythonStudy')\n",
    "#os.chdir(r'C:\\Users\\JMC\\testWork')\n",
    "datafile = 'population-SJIS.csv'"
   ]
  },
  {
   "cell_type": "markdown",
   "metadata": {},
   "source": [
    "* SJISのCSVファイルを読み込み、内容を表示する"
   ]
  },
  {
   "cell_type": "code",
   "execution_count": 7,
   "metadata": {},
   "outputs": [
    {
     "name": "stdout",
     "output_type": "stream",
     "text": [
      "<class 'str'>\n",
      "都道府県,平成12年,平成17年,平成22年,平成27年,平成28年\n",
      "東京都,12064,12577,13159,13515,13624\n",
      "神奈川県,8490,8792,9048,9126,9145\n",
      "大阪府,8805,8817,8865,8839,8833\n",
      "愛知県,7043,7255,7411,7483,7507\n",
      "埼玉県,6938,7054,7195,7267,7289\n",
      "千葉県,5926,6056,6216,6223,6236\n",
      "兵庫県,5551,5591,5588,5535,5520\n",
      "北海道,5683,5628,5506,5382,5352\n",
      "福岡県,5016,5050,5072,5102,5104\n",
      "静岡県,3767,3792,3765,3700,3688\n",
      "茨城県,2986,2975,2970,2917,2905\n",
      "広島県,2879,2877,2861,2844,2837\n",
      "京都府,2644,2648,2636,2610,2605\n",
      "宮城県,2365,2360,2348,2334,2330\n",
      "新潟県,2476,2431,2374,2304,2286\n",
      "長野県,2215,2196,2152,2099,2088\n",
      "岐阜県,2108,2107,2081,2032,2022\n",
      "群馬県,2025,2024,2008,1973,1967\n",
      "栃木県,2005,2017,2008,1974,1966\n",
      "岡山県,1951,1957,1945,1922,1915\n",
      "福島県,2127,2091,2029,1914,1901\n",
      "三重県,1857,1867,1855,1816,1808\n",
      "熊本県,1859,1842,1817,1786,1774\n",
      "鹿児島県,1786,1753,1706,1648,1637\n",
      "沖縄県,1318,1362,1393,1434,1439\n",
      "滋賀県,1343,1380,1411,1413,1413\n",
      "山口県,1528,1493,1451,1405,1394\n",
      "愛媛県,1493,1468,1431,1385,1375\n",
      "長崎県,1517,1479,1427,1377,1367\n",
      "奈良県,1443,1421,1401,1364,1356\n",
      "青森県,1476,1437,1373,1308,1293\n",
      "岩手県,1416,1385,1330,1280,1268\n",
      "大分県,1221,1210,1197,1166,1160\n",
      "石川県,1181,1174,1170,1154,1151\n",
      "山形県,1244,1216,1169,1124,1113\n",
      "宮崎県,1170,1153,1135,1104,1096\n",
      "富山県,1121,1112,1093,1066,1061\n",
      "秋田県,1189,1146,1086,1023,1010\n",
      "香川県,1023,1012,996,976,972\n",
      "和歌山県,1070,1036,1002,964,954\n",
      "山梨県,888,885,863,835,830\n",
      "佐賀県,877,866,850,833,828\n",
      "福井県,829,822,806,787,782\n",
      "徳島県,824,810,785,756,750\n",
      "高知県,814,796,764,728,721\n",
      "島根県,762,742,717,694,690\n",
      "鳥取県,613,607,589,573,570\n",
      "\n"
     ]
    }
   ],
   "source": [
    "with open(datafile, 'r', encoding='shift-jis') as f:\n",
    "    data = f.read()\n",
    "print(type(data))\n",
    "print(data)"
   ]
  },
  {
   "cell_type": "markdown",
   "metadata": {},
   "source": [
    "* SJISのCSVファイルをリストデータとして読み込む"
   ]
  },
  {
   "cell_type": "code",
   "execution_count": 8,
   "metadata": {},
   "outputs": [
    {
     "name": "stdout",
     "output_type": "stream",
     "text": [
      "<class 'list'> 48 6\n",
      "['都道府県', '平成12年', '平成17年', '平成22年', '平成27年', '平成28年']\n",
      "['東京都', '12064', '12577', '13159', '13515', '13624']\n",
      "['鳥取県', '613', '607', '589', '573', '570']\n"
     ]
    }
   ],
   "source": [
    "import csv\n",
    "with open(datafile, 'r', encoding='shift-jis') as f:\n",
    "    data = list(csv.reader(f))\n",
    "print(type(data), len(data), len(data[1]))\n",
    "print(data[0]) \n",
    "print(data[1])\n",
    "print(data[len(data)-1])"
   ]
  },
  {
   "cell_type": "markdown",
   "metadata": {},
   "source": [
    "* SJISのCSVファイルを辞書データとして読み込む"
   ]
  },
  {
   "cell_type": "code",
   "execution_count": 9,
   "metadata": {},
   "outputs": [
    {
     "name": "stdout",
     "output_type": "stream",
     "text": [
      "<class 'list'> 47 6\n",
      "OrderedDict([('都道府県', '東京都'), ('平成12年', '12064'), ('平成17年', '12577'), ('平成22年', '13159'), ('平成27年', '13515'), ('平成28年', '13624')])\n",
      "OrderedDict([('都道府県', '神奈川県'), ('平成12年', '8490'), ('平成17年', '8792'), ('平成22年', '9048'), ('平成27年', '9126'), ('平成28年', '9145')])\n",
      "OrderedDict([('都道府県', '鳥取県'), ('平成12年', '613'), ('平成17年', '607'), ('平成22年', '589'), ('平成27年', '573'), ('平成28年', '570')])\n"
     ]
    }
   ],
   "source": [
    "import csv\n",
    "with open(datafile, 'r', encoding='shift-jis') as f:\n",
    "    data = []\n",
    "    for row in csv.DictReader(f):\n",
    "        data.append(row)\n",
    "print(type(data), len(data), len(data[1]))\n",
    "print(data[0]) \n",
    "print(data[1]) \n",
    "print(data[len(data)-1])"
   ]
  },
  {
   "cell_type": "markdown",
   "metadata": {},
   "source": [
    "* 自分用のオープン関数を定義してみる"
   ]
  },
  {
   "cell_type": "code",
   "execution_count": 10,
   "metadata": {},
   "outputs": [],
   "source": [
    "def openReadSJIS(name):\n",
    "    return open(name, 'r', encoding='shift-jis')"
   ]
  },
  {
   "cell_type": "markdown",
   "metadata": {},
   "source": [
    "* 自前の関数で読み込みを行ってみる"
   ]
  },
  {
   "cell_type": "code",
   "execution_count": 11,
   "metadata": {},
   "outputs": [
    {
     "name": "stdout",
     "output_type": "stream",
     "text": [
      "<class 'list'> 48 6\n",
      "['都道府県', '平成12年', '平成17年', '平成22年', '平成27年', '平成28年']\n",
      "['東京都', '12064', '12577', '13159', '13515', '13624']\n",
      "['鳥取県', '613', '607', '589', '573', '570']\n"
     ]
    }
   ],
   "source": [
    "import csv\n",
    "with openReadSJIS(datafile) as f:\n",
    "    data = list(csv.reader(f))\n",
    "print(type(data), len(data), len(data[1]))\n",
    "print(data[0]) \n",
    "print(data[1])\n",
    "print(data[len(data)-1])"
   ]
  },
  {
   "cell_type": "markdown",
   "metadata": {},
   "source": [
    "* 同じようにうまくいった\n",
    "\n",
    "* 今度はnumpyを使ってみる"
   ]
  },
  {
   "cell_type": "code",
   "execution_count": 12,
   "metadata": {},
   "outputs": [
    {
     "name": "stdout",
     "output_type": "stream",
     "text": [
      "<class 'numpy.ndarray'> 48 6\n",
      "[nan nan nan nan nan nan]\n",
      "[   nan 12064. 12577. 13159. 13515. 13624.]\n",
      "[ nan 613. 607. 589. 573. 570.]\n"
     ]
    }
   ],
   "source": [
    "import numpy as np\n",
    "data = np.genfromtxt('population-SJIS.csv', delimiter=',')\n",
    "print(type(data), len(data), len(data[1]))\n",
    "print(data[0]) \n",
    "print(data[1])\n",
    "print(data[len(data)-1])"
   ]
  },
  {
   "cell_type": "markdown",
   "metadata": {},
   "source": [
    "* numpyだとndarrayという浮動小数配列に読み込む\n",
    "    + 数値でないフィールドはnanになる"
   ]
  },
  {
   "cell_type": "code",
   "execution_count": 13,
   "metadata": {},
   "outputs": [
    {
     "name": "stdout",
     "output_type": "stream",
     "text": [
      "5 [12064. 12577. 13159. 13515. 13624.]\n",
      "合計= 64939.0\n",
      "平均= 12987.8\n",
      "最頻値= 13159.0\n",
      "標準偏差= 588.924918813935\n",
      "分散= 346832.56\n",
      "最大値= 13624.0 index= 4\n",
      "最小値= 12064.0 index= 0\n"
     ]
    }
   ],
   "source": [
    "d = data[1][1:] # 1列目はnanなので、それより後だけを使う\n",
    "print(len(d), d)\n",
    "print('合計=', np.sum(d))\n",
    "print('平均=', np.mean(d))\n",
    "print('最頻値=', np.median(d))\n",
    "print('標準偏差=', np.std(d))\n",
    "print('分散=', np.var(d))\n",
    "print('最大値=', np.max(d), 'index=', np.argmax(d))\n",
    "print('最小値=', np.min(d), 'index=', np.argmin(d))"
   ]
  },
  {
   "cell_type": "code",
   "execution_count": null,
   "metadata": {},
   "outputs": [],
   "source": []
  }
 ],
 "metadata": {
  "kernelspec": {
   "display_name": "Python 3",
   "language": "python",
   "name": "python3"
  },
  "language_info": {
   "codemirror_mode": {
    "name": "ipython",
    "version": 3
   },
   "file_extension": ".py",
   "mimetype": "text/x-python",
   "name": "python",
   "nbconvert_exporter": "python",
   "pygments_lexer": "ipython3",
   "version": "3.6.4"
  }
 },
 "nbformat": 4,
 "nbformat_minor": 2
}
